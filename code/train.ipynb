{
 "cells": [
  {
   "cell_type": "code",
   "execution_count": 19,
   "metadata": {},
   "outputs": [],
   "source": [
    "import pandas as pd\n",
    "from sklearn.model_selection import train_test_split\n",
    "from sklearn.preprocessing import StandardScaler"
   ]
  },
  {
   "attachments": {},
   "cell_type": "markdown",
   "metadata": {},
   "source": [
    "Once we get the dataset to be perfectly fine, lets test against different types of k-means clusters \n",
    "- Potential suggestion: Explore the dataset to see if there is any form of PCA needed\n",
    "\n",
    "Find the number of k with the lowest WSS, so that we're able to cluster them accordingly.\n",
    "After that, we can use the elbow method to find the best k value for the dataset and cluster them accordingly.\n",
    "\n",
    "After that, we manually analyse the data and from there we are able to then further group the data into two groups."
   ]
  },
  {
   "cell_type": "code",
   "execution_count": 22,
   "metadata": {},
   "outputs": [
    {
     "data": {
      "text/plain": [
       "1    332077\n",
       "0    106480\n",
       "Name: outcome, dtype: int64"
      ]
     },
     "execution_count": 22,
     "metadata": {},
     "output_type": "execute_result"
    }
   ],
   "source": [
    "app = pd.read_csv(\"C:/Users/User/Desktop/IT1244-Project/data/application_with_clusters.csv\", index_col='Unnamed: 0')\n",
    "\n",
    "# Check if the data is balanced or not, if it is not we will have to do something to it\n",
    "app['outcome'].value_counts()"
   ]
  },
  {
   "cell_type": "code",
   "execution_count": 26,
   "metadata": {},
   "outputs": [
    {
     "data": {
      "text/plain": [
       "Index(['own_car', 'own_realty', 'num_child', 'income', 'age',\n",
       "       'years_of_employment', 'mobile', 'work_phone', 'phone', 'email',\n",
       "       'num_family_members', 'is_female', 'is_male', 'Commercial associate',\n",
       "       'Pensioner', 'State servant', 'Student', 'Working', 'Academic degree',\n",
       "       'Higher education', 'Incomplete higher', 'Lower secondary',\n",
       "       'Secondary / secondary special', 'Civil marriage', 'Married',\n",
       "       'Separated', 'Single / not married', 'Widow', 'Co-op apartment',\n",
       "       'House / apartment', 'Municipal apartment', 'Office apartment',\n",
       "       'Rented apartment', 'With parents', 'Government', 'Sales', 'Unemployed',\n",
       "       'Unknown', 'has_previous_credit', 'count_X', 'count_C', 'months_late',\n",
       "       'outcome'],\n",
       "      dtype='object')"
      ]
     },
     "execution_count": 26,
     "metadata": {},
     "output_type": "execute_result"
    }
   ],
   "source": [
    "app.head()"
   ]
  },
  {
   "cell_type": "code",
   "execution_count": 27,
   "metadata": {},
   "outputs": [],
   "source": [
    "X = app.drop(['outcome'], axis=1)\n",
    "y = app['outcome']\n",
    "\n",
    "X_train, X_test, y_train, y_test = train_test_split(X, y, test_size=0.3, random_state=42)\n"
   ]
  },
  {
   "cell_type": "code",
   "execution_count": 28,
   "metadata": {},
   "outputs": [],
   "source": [
    "# For each model\n",
    "\n",
    "# We simplify the training of the model part\n",
    "def result(X_train, X_test, y_train, model):\n",
    "    model.fit(X_train, y_train)\n",
    "    y_pred = model.predict(X_test)\n",
    "    return y_pred"
   ]
  },
  {
   "cell_type": "code",
   "execution_count": 6,
   "metadata": {},
   "outputs": [
    {
     "name": "stdout",
     "output_type": "stream",
     "text": [
      "              precision    recall  f1-score   support\n",
      "\n",
      "           0       0.43      0.18      0.25     32175\n",
      "           1       0.78      0.92      0.84     99393\n",
      "\n",
      "    accuracy                           0.74    131568\n",
      "   macro avg       0.60      0.55      0.55    131568\n",
      "weighted avg       0.69      0.74      0.70    131568\n",
      "\n"
     ]
    }
   ],
   "source": [
    "# Logistic Regression\n",
    "from sklearn.linear_model import LogisticRegression\n",
    "from sklearn.metrics import classification_report\n",
    "\n",
    "log_reg = LogisticRegression(max_iter = 20000)\n",
    "log_reg_result = result(X_train, X_test, y_train, log_reg)\n",
    "print(classification_report(y_test, log_reg_result))"
   ]
  },
  {
   "cell_type": "code",
   "execution_count": 7,
   "metadata": {},
   "outputs": [
    {
     "name": "stdout",
     "output_type": "stream",
     "text": [
      "              precision    recall  f1-score   support\n",
      "\n",
      "           0       0.99      0.48      0.64     32175\n",
      "           1       0.86      1.00      0.92     99393\n",
      "\n",
      "    accuracy                           0.87    131568\n",
      "   macro avg       0.92      0.74      0.78    131568\n",
      "weighted avg       0.89      0.87      0.85    131568\n",
      "\n"
     ]
    }
   ],
   "source": [
    "# Random Forest Classifier \n",
    "from sklearn.ensemble import RandomForestClassifier\n",
    "\n",
    "rfc = RandomForestClassifier(max_depth = 8)\n",
    "rfc_result = result(X_train, X_test, y_train, rfc)\n",
    "print(classification_report(y_test, rfc_result))\n",
    "\n",
    "# cross_val_score(dtc, X_train, y_train, cv=10)"
   ]
  },
  {
   "cell_type": "code",
   "execution_count": 29,
   "metadata": {},
   "outputs": [
    {
     "name": "stdout",
     "output_type": "stream",
     "text": [
      "              precision    recall  f1-score   support\n",
      "\n",
      "           0       0.88      0.84      0.86     32175\n",
      "           1       0.95      0.96      0.96     99393\n",
      "\n",
      "    accuracy                           0.93    131568\n",
      "   macro avg       0.92      0.90      0.91    131568\n",
      "weighted avg       0.93      0.93      0.93    131568\n",
      "\n"
     ]
    }
   ],
   "source": [
    "# XG Boost\n",
    "\n",
    "from xgboost import XGBClassifier\n",
    "xgb = XGBClassifier(n_estimators = 100, learning_rate = 1.0, max_depth = 1, objective=\"binary:logistic\").fit(X_train, y_train)\n",
    "xgb_result = result(X_train, X_test, y_train, xgb)\n",
    "print(classification_report(y_test, xgb_result))\n"
   ]
  },
  {
   "cell_type": "code",
   "execution_count": 9,
   "metadata": {},
   "outputs": [
    {
     "name": "stderr",
     "output_type": "stream",
     "text": [
      "c:\\Python311\\Lib\\site-packages\\sklearn\\model_selection\\_search.py:305: UserWarning: The total space of parameters 6 is smaller than n_iter=10. Running 6 iterations. For exhaustive searches, use GridSearchCV.\n",
      "  warnings.warn(\n"
     ]
    },
    {
     "name": "stdout",
     "output_type": "stream",
     "text": [
      "{'C': 100}\n",
      "0.7426617901287013\n",
      "              precision    recall  f1-score   support\n",
      "\n",
      "           0       0.43      0.18      0.25     32175\n",
      "           1       0.78      0.92      0.84     99393\n",
      "\n",
      "    accuracy                           0.74    131568\n",
      "   macro avg       0.60      0.55      0.55    131568\n",
      "weighted avg       0.69      0.74      0.70    131568\n",
      "\n"
     ]
    }
   ],
   "source": [
    "# After we have the result for the few models we're using, we can optimise the hyperparameters to help us find the best model\n",
    "# For example, we can use GridSearchCV to optimise the hyperparameters for Logistic Regression.\n",
    "# How do you find the parameters? Documentation\n",
    "\n",
    "from sklearn.model_selection import RandomizedSearchCV\n",
    "\n",
    "param_grid = {\n",
    "    'C': [0.001, 0.01, 0.1, 1, 10, 100],\n",
    "}\n",
    "\n",
    "log_reg_cv = RandomizedSearchCV(log_reg, param_grid, n_jobs = -1)\n",
    "log_reg_cv.fit(X_train, y_train)\n",
    "print(log_reg_cv.best_params_)\n",
    "print(log_reg_cv.best_score_)\n",
    "\n",
    "# After that, save this into a model and run result() again\n",
    "log_reg_cv = LogisticRegression(max_iter = 20000, **log_reg_cv.best_params_)\n",
    "log_reg_cv_result = result(X_train, X_test, y_train, log_reg_cv)\n",
    "print(classification_report(y_test, log_reg_cv_result))\n"
   ]
  },
  {
   "cell_type": "code",
   "execution_count": 10,
   "metadata": {},
   "outputs": [
    {
     "name": "stdout",
     "output_type": "stream",
     "text": [
      "{'n_estimators': 250, 'min_samples_split': 10, 'max_features': None, 'criterion': 'gini'}\n",
      "0.9866412155389774\n",
      "              precision    recall  f1-score   support\n",
      "\n",
      "           0       0.96      0.98      0.97     32175\n",
      "           1       0.99      0.99      0.99     99393\n",
      "\n",
      "    accuracy                           0.99    131568\n",
      "   macro avg       0.98      0.99      0.98    131568\n",
      "weighted avg       0.99      0.99      0.99    131568\n",
      "\n"
     ]
    }
   ],
   "source": [
    "param_grid = {\n",
    "    'n_estimators': [50, 100, 250, 500],\n",
    "    'criterion': [\"gini\", \"entropy\", \"log_loss\"],\n",
    "    'min_samples_split': [2, 5, 10, 20],\n",
    "    'max_features': [\"sqrt\", \"log2\", None],\n",
    "}\n",
    "\n",
    "rfc_cv = RandomizedSearchCV(rfc, param_grid, n_jobs = -1)\n",
    "rfc_cv.fit(X_train, y_train)\n",
    "print(rfc_cv.best_params_)\n",
    "print(rfc_cv.best_score_)\n",
    "\n",
    "rfc_cv = RandomForestClassifier(max_depth = 8, **rfc_cv.best_params_)\n",
    "rfc_cv_result = result(X_train, X_test, y_train, rfc_cv)\n",
    "print(classification_report(y_test, rfc_cv_result))"
   ]
  },
  {
   "cell_type": "code",
   "execution_count": 11,
   "metadata": {},
   "outputs": [
    {
     "name": "stdout",
     "output_type": "stream",
     "text": [
      "{'max_depth': 10, 'gamma': 0.01, 'eta': 10}\n",
      "              precision    recall  f1-score   support\n",
      "\n",
      "           0       0.36      0.03      0.05     32175\n",
      "           1       0.76      0.99      0.86     99393\n",
      "\n",
      "    accuracy                           0.75    131568\n",
      "   macro avg       0.56      0.51      0.45    131568\n",
      "weighted avg       0.66      0.75      0.66    131568\n",
      "\n"
     ]
    }
   ],
   "source": [
    "param_grid = {\n",
    "    'gamma': [0, 0.001, 0.01, 0.01, 1, 10],\n",
    "    'eta': [0.001, 0.01, 0.1, 1, 10],\n",
    "    'max_depth': [4, 6, 8, 10]\n",
    "}\n",
    "\n",
    "xgboost_cv = RandomizedSearchCV(xgb, param_grid, n_jobs = -1)\n",
    "xgboost_cv.fit(X_train, y_train)\n",
    "print(xgboost_cv.best_params_)\n",
    "\n",
    "xgb_cv = XGBClassifier(**xgboost_cv.best_params_)\n",
    "xgboost_cv_result = result(X_train, X_test, y_train, xgb_cv)\n",
    "print(classification_report(y_test, xgboost_cv_result))"
   ]
  },
  {
   "attachments": {},
   "cell_type": "markdown",
   "metadata": {},
   "source": [
    "At the end of the day, it performs so well that it might be at risk of overfitting.\n",
    "Therefore, we "
   ]
  },
  {
   "attachments": {},
   "cell_type": "markdown",
   "metadata": {},
   "source": [
    "After this, we use the ROC AUC score if there is an imbalance in dataset. We try not to use accuracy.\n",
    "\n",
    "There are also other scores like Precision and Recall, those are usable as well. \n",
    "\n",
    "However, let's look at the formulas for precision and recall:\n",
    "Precision = TP / (TP + FP)\n",
    "Recall = TP / (TP + FN)\n",
    "\n",
    "The cost of having a false positive is higher than a false negative as we can deny the loan to a person who is not a defaulter, but we cannot give a loan to a person who is a defaulter.\n",
    "\n",
    "Therefore we should seek to minimise FP > minimise FN, and therefore the higher the precision, the better."
   ]
  },
  {
   "cell_type": "code",
   "execution_count": 12,
   "metadata": {},
   "outputs": [],
   "source": [
    "import matplotlib.pyplot as plt\n",
    "import numpy as np"
   ]
  },
  {
   "cell_type": "code",
   "execution_count": 13,
   "metadata": {},
   "outputs": [
    {
     "data": {
      "image/png": "[encoded data removed]",
      "text/plain": [
       "<Figure size 640x480 with 1 Axes>"
      ]
     },
     "metadata": {},
     "output_type": "display_data"
    }
   ],
   "source": [
    "def graphing(X_test, model, name = 'model'):\n",
    "\n",
    "    y_pred = model.predict_proba(X_test)[:, 1]\n",
    "    thresholds = np.linspace(0,1,101)\n",
    "\n",
    "    scores = []\n",
    "\n",
    "    for t in thresholds:\n",
    "        actual_positive = (y_test == 1)\n",
    "        actual_negative = (y_test == 0)\n",
    "\n",
    "        pred_positive = (y_pred >= t)\n",
    "        pred_negative = (y_pred < t)\n",
    "\n",
    "        tp = (actual_positive & pred_positive).sum()\n",
    "        tn = (actual_negative & pred_negative).sum()\n",
    "        fp = (pred_positive & actual_negative).sum()\n",
    "        fn = (pred_negative & actual_positive).sum()\n",
    "\n",
    "        scores.append((t, tp, fp, fn, tn))\n",
    "    \n",
    "    columns = ['threshold', 'tp', 'fp', 'fn', 'tn']\n",
    "    scores_data = pd.DataFrame(scores, columns = columns)\n",
    "    scores_data['tpr'] = scores_data.tp / (scores_data.tp + scores_data.fn)\n",
    "    scores_data['fpr'] = scores_data.fp / (scores_data.fp + scores_data.tn)\n",
    "    \n",
    "    plt.plot(scores_data.fpr, scores_data.tpr, label='Model')\n",
    "    plt.title(\"ROC AUC curve of \" + name)\n",
    "\n",
    "graphing(X_test, log_reg)"
   ]
  },
  {
   "cell_type": "code",
   "execution_count": 14,
   "metadata": {},
   "outputs": [
    {
     "data": {
      "image/png": "[encoded data removed]",
      "text/plain": [
       "<Figure size 640x480 with 1 Axes>"
      ]
     },
     "metadata": {},
     "output_type": "display_data"
    }
   ],
   "source": [
    "graphing(X_test, rfc)"
   ]
  },
  {
   "cell_type": "code",
   "execution_count": 15,
   "metadata": {},
   "outputs": [
    {
     "data": {
      "image/png": "[encoded data removed]",
      "text/plain": [
       "<Figure size 640x480 with 1 Axes>"
      ]
     },
     "metadata": {},
     "output_type": "display_data"
    }
   ],
   "source": [
    "graphing(X_test, xgb)"
   ]
  },
  {
   "cell_type": "code",
   "execution_count": 30,
   "metadata": {},
   "outputs": [
    {
     "name": "stdout",
     "output_type": "stream",
     "text": [
      "Model saved\n"
     ]
    }
   ],
   "source": [
    "import pickle \n",
    "\n",
    "model_file = 'model.bin'\n",
    "\n",
    "with open(model_file, 'wb') as f_out:\n",
    "    pickle.dump(xgb, f_out)\n",
    "\n",
    "print(\"Model saved\")"
   ]
  }
 ],
 "metadata": {
  "kernelspec": {
   "display_name": "Python 3",
   "language": "python",
   "name": "python3"
  },
  "language_info": {
   "codemirror_mode": {
    "name": "ipython",
    "version": 3
   },
   "file_extension": ".py",
   "mimetype": "text/x-python",
   "name": "python",
   "nbconvert_exporter": "python",
   "pygments_lexer": "ipython3",
   "version": "3.11.1"
  },
  "orig_nbformat": 4,
  "vscode": {
   "interpreter": {
    "hash": "c261aea317cc0286b3b3261fbba9abdec21eaa57589985bb7a274bf54d6cc0a7"
   }
  }
 },
 "nbformat": 4,
 "nbformat_minor": 2
}
