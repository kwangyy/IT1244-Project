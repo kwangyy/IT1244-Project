{
 "cells": [
  {
   "cell_type": "code",
   "execution_count": 1,
   "metadata": {},
   "outputs": [],
   "source": [
    "import pandas as pd\n",
    "from sklearn.model_selection import train_test_split\n",
    "from sklearn.preprocessing import StandardScaler"
   ]
  },
  {
   "attachments": {},
   "cell_type": "markdown",
   "metadata": {},
   "source": [
    "# Note for KY - Jon and Zhiyong you can kind of get the context here too\n",
    "Once we get the dataset to be perfectly fine, lets test against different types of k-means clusters \n",
    "- Potential suggestion: Explore the dataset to see if there is any form of PCA needed\n",
    "\n",
    "Find the number of k with the lowest WSS, so that we're able to cluster them accordingly.\n",
    "After that, we can use the elbow method to find the best k value for the dataset and cluster them accordingly.\n",
    "\n",
    "After that, we manually analyse the data and from there we are able to then further group the data into two groups."
   ]
  },
  {
   "cell_type": "code",
   "execution_count": 2,
   "metadata": {},
   "outputs": [
    {
     "data": {
      "text/plain": [
       "1    245321\n",
       "0    193236\n",
       "Name: outcome, dtype: int64"
      ]
     },
     "execution_count": 2,
     "metadata": {},
     "output_type": "execute_result"
    }
   ],
   "source": [
    "app = pd.read_csv(\"application_with_outcome.csv\", index_col='Unnamed: 0')\n",
    "\n",
    "# Check if the data is balanced or not, if it is not we will have to do something to it\n",
    "app['outcome'].value_counts()"
   ]
  },
  {
   "cell_type": "code",
   "execution_count": 3,
   "metadata": {},
   "outputs": [
    {
     "data": {
      "text/html": [
       "<div>\n",
       "<style scoped>\n",
       "    .dataframe tbody tr th:only-of-type {\n",
       "        vertical-align: middle;\n",
       "    }\n",
       "\n",
       "    .dataframe tbody tr th {\n",
       "        vertical-align: top;\n",
       "    }\n",
       "\n",
       "    .dataframe thead th {\n",
       "        text-align: right;\n",
       "    }\n",
       "</style>\n",
       "<table border=\"1\" class=\"dataframe\">\n",
       "  <thead>\n",
       "    <tr style=\"text-align: right;\">\n",
       "      <th></th>\n",
       "      <th>own_car</th>\n",
       "      <th>own_realty</th>\n",
       "      <th>num_child</th>\n",
       "      <th>income</th>\n",
       "      <th>age</th>\n",
       "      <th>years_of_employment</th>\n",
       "      <th>mobile</th>\n",
       "      <th>work_phone</th>\n",
       "      <th>phone</th>\n",
       "      <th>email</th>\n",
       "      <th>...</th>\n",
       "      <th>With parents</th>\n",
       "      <th>Government</th>\n",
       "      <th>Sales</th>\n",
       "      <th>Unemployed</th>\n",
       "      <th>Unknown</th>\n",
       "      <th>has_previous_credit</th>\n",
       "      <th>count_X</th>\n",
       "      <th>count_C</th>\n",
       "      <th>months_late</th>\n",
       "      <th>outcome</th>\n",
       "    </tr>\n",
       "  </thead>\n",
       "  <tbody>\n",
       "    <tr>\n",
       "      <th>0</th>\n",
       "      <td>1</td>\n",
       "      <td>1</td>\n",
       "      <td>0</td>\n",
       "      <td>12.965712</td>\n",
       "      <td>32</td>\n",
       "      <td>12</td>\n",
       "      <td>1</td>\n",
       "      <td>1</td>\n",
       "      <td>0</td>\n",
       "      <td>0</td>\n",
       "      <td>...</td>\n",
       "      <td>0</td>\n",
       "      <td>0</td>\n",
       "      <td>0</td>\n",
       "      <td>0</td>\n",
       "      <td>1</td>\n",
       "      <td>1</td>\n",
       "      <td>1</td>\n",
       "      <td>13</td>\n",
       "      <td>3</td>\n",
       "      <td>1</td>\n",
       "    </tr>\n",
       "    <tr>\n",
       "      <th>1</th>\n",
       "      <td>1</td>\n",
       "      <td>1</td>\n",
       "      <td>0</td>\n",
       "      <td>12.965712</td>\n",
       "      <td>32</td>\n",
       "      <td>12</td>\n",
       "      <td>1</td>\n",
       "      <td>1</td>\n",
       "      <td>0</td>\n",
       "      <td>0</td>\n",
       "      <td>...</td>\n",
       "      <td>0</td>\n",
       "      <td>0</td>\n",
       "      <td>0</td>\n",
       "      <td>0</td>\n",
       "      <td>1</td>\n",
       "      <td>1</td>\n",
       "      <td>1</td>\n",
       "      <td>12</td>\n",
       "      <td>3</td>\n",
       "      <td>1</td>\n",
       "    </tr>\n",
       "    <tr>\n",
       "      <th>2</th>\n",
       "      <td>1</td>\n",
       "      <td>1</td>\n",
       "      <td>0</td>\n",
       "      <td>11.630717</td>\n",
       "      <td>58</td>\n",
       "      <td>3</td>\n",
       "      <td>1</td>\n",
       "      <td>0</td>\n",
       "      <td>0</td>\n",
       "      <td>0</td>\n",
       "      <td>...</td>\n",
       "      <td>0</td>\n",
       "      <td>0</td>\n",
       "      <td>0</td>\n",
       "      <td>0</td>\n",
       "      <td>1</td>\n",
       "      <td>1</td>\n",
       "      <td>16</td>\n",
       "      <td>7</td>\n",
       "      <td>7</td>\n",
       "      <td>0</td>\n",
       "    </tr>\n",
       "    <tr>\n",
       "      <th>3</th>\n",
       "      <td>0</td>\n",
       "      <td>1</td>\n",
       "      <td>0</td>\n",
       "      <td>12.506181</td>\n",
       "      <td>52</td>\n",
       "      <td>8</td>\n",
       "      <td>1</td>\n",
       "      <td>0</td>\n",
       "      <td>1</td>\n",
       "      <td>1</td>\n",
       "      <td>...</td>\n",
       "      <td>0</td>\n",
       "      <td>0</td>\n",
       "      <td>1</td>\n",
       "      <td>0</td>\n",
       "      <td>0</td>\n",
       "      <td>1</td>\n",
       "      <td>3</td>\n",
       "      <td>0</td>\n",
       "      <td>2</td>\n",
       "      <td>0</td>\n",
       "    </tr>\n",
       "    <tr>\n",
       "      <th>4</th>\n",
       "      <td>0</td>\n",
       "      <td>1</td>\n",
       "      <td>0</td>\n",
       "      <td>12.506181</td>\n",
       "      <td>52</td>\n",
       "      <td>8</td>\n",
       "      <td>1</td>\n",
       "      <td>0</td>\n",
       "      <td>1</td>\n",
       "      <td>1</td>\n",
       "      <td>...</td>\n",
       "      <td>0</td>\n",
       "      <td>0</td>\n",
       "      <td>1</td>\n",
       "      <td>0</td>\n",
       "      <td>0</td>\n",
       "      <td>1</td>\n",
       "      <td>5</td>\n",
       "      <td>0</td>\n",
       "      <td>0</td>\n",
       "      <td>0</td>\n",
       "    </tr>\n",
       "  </tbody>\n",
       "</table>\n",
       "<p>5 rows × 43 columns</p>\n",
       "</div>"
      ],
      "text/plain": [
       "   own_car  own_realty  num_child     income  age  years_of_employment  \\\n",
       "0        1           1          0  12.965712   32                   12   \n",
       "1        1           1          0  12.965712   32                   12   \n",
       "2        1           1          0  11.630717   58                    3   \n",
       "3        0           1          0  12.506181   52                    8   \n",
       "4        0           1          0  12.506181   52                    8   \n",
       "\n",
       "   mobile  work_phone  phone  email  ...  With parents  Government  Sales  \\\n",
       "0       1           1      0      0  ...             0           0      0   \n",
       "1       1           1      0      0  ...             0           0      0   \n",
       "2       1           0      0      0  ...             0           0      0   \n",
       "3       1           0      1      1  ...             0           0      1   \n",
       "4       1           0      1      1  ...             0           0      1   \n",
       "\n",
       "   Unemployed  Unknown  has_previous_credit  count_X  count_C  months_late  \\\n",
       "0           0        1                    1        1       13            3   \n",
       "1           0        1                    1        1       12            3   \n",
       "2           0        1                    1       16        7            7   \n",
       "3           0        0                    1        3        0            2   \n",
       "4           0        0                    1        5        0            0   \n",
       "\n",
       "   outcome  \n",
       "0        1  \n",
       "1        1  \n",
       "2        0  \n",
       "3        0  \n",
       "4        0  \n",
       "\n",
       "[5 rows x 43 columns]"
      ]
     },
     "execution_count": 3,
     "metadata": {},
     "output_type": "execute_result"
    }
   ],
   "source": [
    "app.head()"
   ]
  },
  {
   "cell_type": "code",
   "execution_count": 4,
   "metadata": {},
   "outputs": [
    {
     "name": "stdout",
     "output_type": "stream",
     "text": [
      "Index(['own_car', 'own_realty', 'num_child', 'income', 'age',\n",
      "       'years_of_employment', 'mobile', 'work_phone', 'phone', 'email',\n",
      "       'num_family_numbers', 'is_female', 'is_male', 'Commercial associate',\n",
      "       'Pensioner', 'State servant', 'Student', 'Working', 'Academic degree',\n",
      "       'Higher education', 'Incomplete higher', 'Lower secondary',\n",
      "       'Secondary / secondary special', 'Civil marriage', 'Married',\n",
      "       'Separated', 'Single / not married', 'Widow', 'Co-op apartment',\n",
      "       'House / apartment', 'Municipal apartment', 'Office apartment',\n",
      "       'Rented apartment', 'With parents', 'Government', 'Sales', 'Unemployed',\n",
      "       'Unknown', 'has_previous_credit', 'count_X', 'count_C', 'months_late',\n",
      "       'outcome'],\n",
      "      dtype='object')\n"
     ]
    }
   ],
   "source": [
    "print(app.columns)\n",
    "X = app.drop(['outcome'], axis=1)\n",
    "y = app['outcome']\n",
    "\n",
    "X_train, X_test, y_train, y_test = train_test_split(X, y, test_size=0.3, random_state=42)\n"
   ]
  },
  {
   "cell_type": "code",
   "execution_count": 5,
   "metadata": {},
   "outputs": [],
   "source": [
    "# For each model\n",
    "\n",
    "# We simplify the training of the model part\n",
    "def result(X_train, X_test, y_train, model):\n",
    "    model.fit(X_train, y_train)\n",
    "    y_pred = model.predict_proba(X_test)[:, 1]\n",
    "    return y_pred"
   ]
  },
  {
   "cell_type": "code",
   "execution_count": 6,
   "metadata": {},
   "outputs": [
    {
     "data": {
      "text/plain": [
       "array([3.20197768e-103, 5.14423044e-009, 1.00000000e+000, ...,\n",
       "       2.38399415e-003, 1.00000000e+000, 3.31081672e-103])"
      ]
     },
     "execution_count": 6,
     "metadata": {},
     "output_type": "execute_result"
    }
   ],
   "source": [
    "# Logistic Regression\n",
    "from sklearn.linear_model import LogisticRegression\n",
    "\n",
    "log_reg = LogisticRegression(max_iter = 5000)\n",
    "log_reg_result = result(X_train, X_test, y_train, log_reg)\n",
    "log_reg_result"
   ]
  },
  {
   "cell_type": "code",
   "execution_count": 25,
   "metadata": {},
   "outputs": [],
   "source": [
    "# Support Vector Machine\n",
    "\n",
    "#from sklearn import svm\n",
    "#svm_model = svm.SVC(max_iter = 2000)\n",
    "#svm_model_result = result(X_train, X_test, y_train, svm_model)\n",
    "#svm_model_result#"
   ]
  },
  {
   "cell_type": "code",
   "execution_count": 7,
   "metadata": {},
   "outputs": [
    {
     "data": {
      "text/plain": [
       "array([1.        , 1.        , 1.        , 1.        , 1.        ,\n",
       "       1.        , 0.99996743, 1.        , 0.99996743, 1.        ])"
      ]
     },
     "execution_count": 7,
     "metadata": {},
     "output_type": "execute_result"
    }
   ],
   "source": [
    "# Decision Tree / Random Forest (alternative)\n",
    "from sklearn.tree import DecisionTreeClassifier\n",
    "from sklearn.model_selection import cross_val_score\n",
    "\n",
    "dtc = DecisionTreeClassifier()\n",
    "cross_val_score(dtc, X_train, y_train, cv=10) # sus af tho"
   ]
  },
  {
   "cell_type": "code",
   "execution_count": 8,
   "metadata": {},
   "outputs": [
    {
     "data": {
      "text/plain": [
       "array([1.1839567e-06, 1.1839567e-06, 9.9999928e-01, ..., 1.5535777e-06,\n",
       "       9.9999917e-01, 1.1839567e-06], dtype=float32)"
      ]
     },
     "execution_count": 8,
     "metadata": {},
     "output_type": "execute_result"
    }
   ],
   "source": [
    "# XG Boost\n",
    "\n",
    "from xgboost import XGBClassifier\n",
    "XG_boost = XGBClassifier(n_estimators = 100, learning_rate = 1.0, max_depth = 1, objective=\"binary:logistic\").fit(X_train, y_train)\n",
    "XG_boost_result = result(X_train, X_test, y_train, XG_boost)\n",
    "XG_boost_result"
   ]
  },
  {
   "cell_type": "code",
   "execution_count": 9,
   "metadata": {},
   "outputs": [
    {
     "name": "stderr",
     "output_type": "stream",
     "text": [
      "/Library/Frameworks/Python.framework/Versions/3.10/lib/python3.10/site-packages/sklearn/linear_model/_sag.py:350: ConvergenceWarning: The max_iter was reached which means the coef_ did not converge\n",
      "  warnings.warn(\n",
      "/Library/Frameworks/Python.framework/Versions/3.10/lib/python3.10/site-packages/sklearn/linear_model/_sag.py:350: ConvergenceWarning: The max_iter was reached which means the coef_ did not converge\n",
      "  warnings.warn(\n",
      "/Library/Frameworks/Python.framework/Versions/3.10/lib/python3.10/site-packages/sklearn/linear_model/_sag.py:350: ConvergenceWarning: The max_iter was reached which means the coef_ did not converge\n",
      "  warnings.warn(\n",
      "/Library/Frameworks/Python.framework/Versions/3.10/lib/python3.10/site-packages/sklearn/linear_model/_sag.py:350: ConvergenceWarning: The max_iter was reached which means the coef_ did not converge\n",
      "  warnings.warn(\n",
      "/Library/Frameworks/Python.framework/Versions/3.10/lib/python3.10/site-packages/sklearn/linear_model/_sag.py:350: ConvergenceWarning: The max_iter was reached which means the coef_ did not converge\n",
      "  warnings.warn(\n",
      "/Library/Frameworks/Python.framework/Versions/3.10/lib/python3.10/site-packages/sklearn/linear_model/_sag.py:350: ConvergenceWarning: The max_iter was reached which means the coef_ did not converge\n",
      "  warnings.warn(\n"
     ]
    }
   ],
   "source": [
    "# After we have the result for the few models we're using, we can optimise the hyperparameters to help us find the best model\n",
    "# For example, we can use GridSearchCV to optimise the hyperparameters for Logistic Regression.\n",
    "# How do you find the parameters? Documentation\n",
    "\n",
    "from sklearn.model_selection import GridSearchCV\n",
    "\n",
    "param_grid = {\n",
    "    'penalty': ['l1', 'l2', 'elasticnet'],\n",
    "    'C': [0.001, 0.01, 0.1, 1, 10, 100, 1000], # learning rate\n",
    "    # removed solvers: 'newton-cg', 'lbfgs', \n",
    "    'solver': ['liblinear', 'sag', 'saga'],\n",
    "    # removed max_iter values: 100, 1000, 2500, 5000\n",
    "    'max_iter': [99999]\n",
    "}\n",
    "\n",
    "log_reg_cv = GridSearchCV(log_reg, param_grid, cv=3)\n",
    "log_reg_cv.fit(X_train, y_train)\n",
    "print(log_reg_cv.best_params_)\n",
    "print(log_reg_cv.best_score_)\n",
    "\n",
    "# After that, save this into a model and run result() again\n",
    "y_pred_logregcv = result(X_train, X_test, y_train, log_reg_cv)\n",
    "y_pred_logregcv\n",
    "\n",
    "dtc_cv = GridSearchCV(dtc, param_grid, cv=3)\n",
    "dtc_cv.fit(X_train, y_train)\n",
    "print(dtc_cv.best_params_)\n",
    "print(dtc_cv.best_score_)\n",
    "y_pred_dtc = result(X_train, X_test, y_train, dtc_cv)\n",
    "y_pred_dtc"
   ]
  },
  {
   "attachments": {},
   "cell_type": "markdown",
   "metadata": {},
   "source": [
    "After this, we use the ROC AUC score if there is an imbalance in dataset. We try not to use accuracy.\n",
    "\n",
    "There are also other scores like Precision and Recall, those are usable as well. \n",
    "\n",
    "However, let's look at the formulas for precision and recall:\n",
    "Precision = TP / (TP + FP)\n",
    "Recall = TP / (TP + FN)\n",
    "\n",
    "The cost of having a false positive is higher than a false negative as we can deny the loan to a person who is not a defaulter, but we cannot give a loan to a person who is a defaulter.\n",
    "\n",
    "Therefore we should seek to minimise FP > minimise FN, and therefore the higher the precision, the better."
   ]
  },
  {
   "cell_type": "code",
   "execution_count": 38,
   "metadata": {},
   "outputs": [
    {
     "data": {
      "text/plain": [
       "array([7.95245922e-93, 2.53799397e-08, 1.00000000e+00, ...,\n",
       "       3.15523167e-03, 1.00000000e+00, 7.85401053e-93])"
      ]
     },
     "execution_count": 38,
     "metadata": {},
     "output_type": "execute_result"
    }
   ],
   "source": [
    "import matplotlib.pyplot as plt\n",
    "import numpy as np\n",
    "# Insert your model here\n",
    "#model = None\n",
    "model = log_reg\n",
    "\n",
    "y_pred = model.predict_proba(X_test)[:, 1]\n",
    "y_pred"
   ]
  },
  {
   "cell_type": "code",
   "execution_count": 39,
   "metadata": {},
   "outputs": [],
   "source": [
    "thresholds = np.linspace(0,1,101)\n",
    "\n",
    "scores = []\n",
    "\n",
    "for t in thresholds:\n",
    "    actual_positive = (y_test == 1)\n",
    "    actual_negative = (y_test == 0)\n",
    "\n",
    "    pred_positive = (y_pred >= t)\n",
    "    pred_negative = (y_pred < t)\n",
    "\n",
    "    tp = (actual_positive & pred_positive).sum()\n",
    "    tn = (actual_negative & pred_negative).sum()\n",
    "    fp = (pred_positive & actual_negative).sum()\n",
    "    fn = (pred_negative & actual_positive).sum()\n",
    "\n",
    "    scores.append((t, tp, fp, fn, tn))\n",
    "    \n",
    "columns = ['threshold', 'tp', 'fp', 'fn', 'tn']\n",
    "scores_data = pd.DataFrame(scores, columns = columns)"
   ]
  },
  {
   "cell_type": "code",
   "execution_count": 40,
   "metadata": {},
   "outputs": [
    {
     "data": {
      "text/plain": [
       "<matplotlib.legend.Legend at 0x14f06e1a0>"
      ]
     },
     "execution_count": 40,
     "metadata": {},
     "output_type": "execute_result"
    },
    {
     "data": {
      "image/png": "[encoded data removed]",
      "text/plain": [
       "<Figure size 640x480 with 1 Axes>"
      ]
     },
     "metadata": {},
     "output_type": "display_data"
    }
   ],
   "source": [
    "scores_data['tpr'] = scores_data.tp / (scores_data.tp + scores_data.fn)\n",
    "scores_data['fpr'] = scores_data.fp / (scores_data.fp + scores_data.tn)\n",
    "\n",
    "plt.plot(scores_data.threshold, scores_data.tpr, label = 'tpr')\n",
    "plt.plot(scores_data.threshold, scores_data.fpr, label = 'fpr')\n",
    "plt.legend()"
   ]
  },
  {
   "cell_type": "code",
   "execution_count": 41,
   "metadata": {},
   "outputs": [
    {
     "data": {
      "text/plain": [
       "<matplotlib.legend.Legend at 0x14f67f7f0>"
      ]
     },
     "execution_count": 41,
     "metadata": {},
     "output_type": "execute_result"
    },
    {
     "data": {
      "image/png": "[encoded data removed]",
      "text/plain": [
       "<Figure size 640x480 with 1 Axes>"
      ]
     },
     "metadata": {},
     "output_type": "display_data"
    }
   ],
   "source": [
    "# Make conclusions on the graph pls \n",
    "\n",
    "scores_data['precision'] = scores_data.tp / (scores_data.tp + scores_data.fp)\n",
    "scores_data['recall'] = scores_data.tp / (scores_data.tp + scores_data.fn)\n",
    "\n",
    "plt.plot(scores_data.threshold, scores_data.precision, label = 'precision')\n",
    "plt.plot(scores_data.threshold, scores_data.recall, label = 'recall')\n",
    "plt.legend()"
   ]
  },
  {
   "cell_type": "markdown",
   "metadata": {},
   "source": []
  }
 ],
 "metadata": {
  "kernelspec": {
   "display_name": "Python 3",
   "language": "python",
   "name": "python3"
  },
  "language_info": {
   "codemirror_mode": {
    "name": "ipython",
    "version": 3
   },
   "file_extension": ".py",
   "mimetype": "text/x-python",
   "name": "python",
   "nbconvert_exporter": "python",
   "pygments_lexer": "ipython3",
   "version": "3.10.5"
  },
  "orig_nbformat": 4
 },
 "nbformat": 4,
 "nbformat_minor": 2
}
