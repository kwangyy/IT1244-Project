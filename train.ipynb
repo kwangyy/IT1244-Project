{
 "cells": [
  {
   "cell_type": "code",
   "execution_count": 2,
   "metadata": {},
   "outputs": [],
   "source": [
    "import pandas as pd\n",
    "from sklearn.model_selection import train_test_split\n",
    "from sklearn.preprocessing import StandardScaler"
   ]
  },
  {
   "attachments": {},
   "cell_type": "markdown",
   "metadata": {},
   "source": [
    "Once we get the dataset to be perfectly fine, lets test against different types of k-means clusters \n",
    "- Potential suggestion: Explore the dataset to see if there is any form of PCA needed\n",
    "\n",
    "Find the number of k with the lowest WSS, so that we're able to cluster them accordingly.\n",
    "After that, we can use the elbow method to find the best k value for the dataset and cluster them accordingly.\n",
    "\n",
    "After that, we manually analyse the data and from there we are able to then further group the data into two groups."
   ]
  },
  {
   "cell_type": "code",
   "execution_count": 3,
   "metadata": {},
   "outputs": [
    {
     "data": {
      "text/plain": [
       "1    332077\n",
       "0    106480\n",
       "Name: outcome, dtype: int64"
      ]
     },
     "execution_count": 3,
     "metadata": {},
     "output_type": "execute_result"
    }
   ],
   "source": [
    "app = pd.read_csv(\"application_with_clusters.csv\", index_col='Unnamed: 0')\n",
    "\n",
    "# Check if the data is balanced or not, if it is not we will have to do something to it\n",
    "app['outcome'].value_counts()"
   ]
  },
  {
   "cell_type": "code",
   "execution_count": 4,
   "metadata": {},
   "outputs": [
    {
     "data": {
      "text/html": [
       "<div>\n",
       "<style scoped>\n",
       "    .dataframe tbody tr th:only-of-type {\n",
       "        vertical-align: middle;\n",
       "    }\n",
       "\n",
       "    .dataframe tbody tr th {\n",
       "        vertical-align: top;\n",
       "    }\n",
       "\n",
       "    .dataframe thead th {\n",
       "        text-align: right;\n",
       "    }\n",
       "</style>\n",
       "<table border=\"1\" class=\"dataframe\">\n",
       "  <thead>\n",
       "    <tr style=\"text-align: right;\">\n",
       "      <th></th>\n",
       "      <th>own_car</th>\n",
       "      <th>own_realty</th>\n",
       "      <th>num_child</th>\n",
       "      <th>income</th>\n",
       "      <th>age</th>\n",
       "      <th>years_of_employment</th>\n",
       "      <th>mobile</th>\n",
       "      <th>work_phone</th>\n",
       "      <th>phone</th>\n",
       "      <th>email</th>\n",
       "      <th>...</th>\n",
       "      <th>With parents</th>\n",
       "      <th>Government</th>\n",
       "      <th>Sales</th>\n",
       "      <th>Unemployed</th>\n",
       "      <th>Unknown</th>\n",
       "      <th>has_previous_credit</th>\n",
       "      <th>count_X</th>\n",
       "      <th>count_C</th>\n",
       "      <th>months_late</th>\n",
       "      <th>outcome</th>\n",
       "    </tr>\n",
       "  </thead>\n",
       "  <tbody>\n",
       "    <tr>\n",
       "      <th>0</th>\n",
       "      <td>1</td>\n",
       "      <td>1</td>\n",
       "      <td>0</td>\n",
       "      <td>12.965712</td>\n",
       "      <td>32</td>\n",
       "      <td>12</td>\n",
       "      <td>1</td>\n",
       "      <td>1</td>\n",
       "      <td>0</td>\n",
       "      <td>0</td>\n",
       "      <td>...</td>\n",
       "      <td>0</td>\n",
       "      <td>0</td>\n",
       "      <td>0</td>\n",
       "      <td>0</td>\n",
       "      <td>1</td>\n",
       "      <td>1</td>\n",
       "      <td>1</td>\n",
       "      <td>13</td>\n",
       "      <td>3</td>\n",
       "      <td>1</td>\n",
       "    </tr>\n",
       "    <tr>\n",
       "      <th>1</th>\n",
       "      <td>1</td>\n",
       "      <td>1</td>\n",
       "      <td>0</td>\n",
       "      <td>12.965712</td>\n",
       "      <td>32</td>\n",
       "      <td>12</td>\n",
       "      <td>1</td>\n",
       "      <td>1</td>\n",
       "      <td>0</td>\n",
       "      <td>0</td>\n",
       "      <td>...</td>\n",
       "      <td>0</td>\n",
       "      <td>0</td>\n",
       "      <td>0</td>\n",
       "      <td>0</td>\n",
       "      <td>1</td>\n",
       "      <td>1</td>\n",
       "      <td>1</td>\n",
       "      <td>12</td>\n",
       "      <td>3</td>\n",
       "      <td>1</td>\n",
       "    </tr>\n",
       "    <tr>\n",
       "      <th>2</th>\n",
       "      <td>1</td>\n",
       "      <td>1</td>\n",
       "      <td>0</td>\n",
       "      <td>11.630717</td>\n",
       "      <td>58</td>\n",
       "      <td>3</td>\n",
       "      <td>1</td>\n",
       "      <td>0</td>\n",
       "      <td>0</td>\n",
       "      <td>0</td>\n",
       "      <td>...</td>\n",
       "      <td>0</td>\n",
       "      <td>0</td>\n",
       "      <td>0</td>\n",
       "      <td>0</td>\n",
       "      <td>1</td>\n",
       "      <td>1</td>\n",
       "      <td>16</td>\n",
       "      <td>7</td>\n",
       "      <td>7</td>\n",
       "      <td>1</td>\n",
       "    </tr>\n",
       "    <tr>\n",
       "      <th>3</th>\n",
       "      <td>0</td>\n",
       "      <td>1</td>\n",
       "      <td>0</td>\n",
       "      <td>12.506181</td>\n",
       "      <td>52</td>\n",
       "      <td>8</td>\n",
       "      <td>1</td>\n",
       "      <td>0</td>\n",
       "      <td>1</td>\n",
       "      <td>1</td>\n",
       "      <td>...</td>\n",
       "      <td>0</td>\n",
       "      <td>0</td>\n",
       "      <td>1</td>\n",
       "      <td>0</td>\n",
       "      <td>0</td>\n",
       "      <td>1</td>\n",
       "      <td>3</td>\n",
       "      <td>0</td>\n",
       "      <td>2</td>\n",
       "      <td>1</td>\n",
       "    </tr>\n",
       "    <tr>\n",
       "      <th>4</th>\n",
       "      <td>0</td>\n",
       "      <td>1</td>\n",
       "      <td>0</td>\n",
       "      <td>12.506181</td>\n",
       "      <td>52</td>\n",
       "      <td>8</td>\n",
       "      <td>1</td>\n",
       "      <td>0</td>\n",
       "      <td>1</td>\n",
       "      <td>1</td>\n",
       "      <td>...</td>\n",
       "      <td>0</td>\n",
       "      <td>0</td>\n",
       "      <td>1</td>\n",
       "      <td>0</td>\n",
       "      <td>0</td>\n",
       "      <td>1</td>\n",
       "      <td>5</td>\n",
       "      <td>0</td>\n",
       "      <td>0</td>\n",
       "      <td>1</td>\n",
       "    </tr>\n",
       "  </tbody>\n",
       "</table>\n",
       "<p>5 rows × 43 columns</p>\n",
       "</div>"
      ],
      "text/plain": [
       "   own_car  own_realty  num_child     income  age  years_of_employment  \\\n",
       "0        1           1          0  12.965712   32                   12   \n",
       "1        1           1          0  12.965712   32                   12   \n",
       "2        1           1          0  11.630717   58                    3   \n",
       "3        0           1          0  12.506181   52                    8   \n",
       "4        0           1          0  12.506181   52                    8   \n",
       "\n",
       "   mobile  work_phone  phone  email  ...  With parents  Government  Sales  \\\n",
       "0       1           1      0      0  ...             0           0      0   \n",
       "1       1           1      0      0  ...             0           0      0   \n",
       "2       1           0      0      0  ...             0           0      0   \n",
       "3       1           0      1      1  ...             0           0      1   \n",
       "4       1           0      1      1  ...             0           0      1   \n",
       "\n",
       "   Unemployed  Unknown  has_previous_credit  count_X  count_C  months_late  \\\n",
       "0           0        1                    1        1       13            3   \n",
       "1           0        1                    1        1       12            3   \n",
       "2           0        1                    1       16        7            7   \n",
       "3           0        0                    1        3        0            2   \n",
       "4           0        0                    1        5        0            0   \n",
       "\n",
       "   outcome  \n",
       "0        1  \n",
       "1        1  \n",
       "2        1  \n",
       "3        1  \n",
       "4        1  \n",
       "\n",
       "[5 rows x 43 columns]"
      ]
     },
     "execution_count": 4,
     "metadata": {},
     "output_type": "execute_result"
    }
   ],
   "source": [
    "app.head()"
   ]
  },
  {
   "cell_type": "code",
   "execution_count": 5,
   "metadata": {},
   "outputs": [],
   "source": [
    "X = app.drop(['outcome'], axis=1)\n",
    "y = app['outcome']\n",
    "\n",
    "X_train, X_test, y_train, y_test = train_test_split(X, y, test_size=0.3, random_state=42)\n"
   ]
  },
  {
   "cell_type": "code",
   "execution_count": 6,
   "metadata": {},
   "outputs": [],
   "source": [
    "# For each model\n",
    "\n",
    "# We simplify the training of the model part\n",
    "def result(X_train, X_test, y_train, model):\n",
    "    model.fit(X_train, y_train)\n",
    "    y_pred = model.predict(X_test)\n",
    "    return y_pred"
   ]
  },
  {
   "cell_type": "code",
   "execution_count": 7,
   "metadata": {},
   "outputs": [
    {
     "name": "stdout",
     "output_type": "stream",
     "text": [
      "              precision    recall  f1-score   support\n",
      "\n",
      "           0       0.43      0.18      0.25     32175\n",
      "           1       0.78      0.92      0.84     99393\n",
      "\n",
      "    accuracy                           0.74    131568\n",
      "   macro avg       0.60      0.55      0.55    131568\n",
      "weighted avg       0.69      0.74      0.70    131568\n",
      "\n"
     ]
    }
   ],
   "source": [
    "# Logistic Regression\n",
    "from sklearn.linear_model import LogisticRegression\n",
    "from sklearn.metrics import classification_report\n",
    "\n",
    "log_reg = LogisticRegression(max_iter = 20000)\n",
    "log_reg_result = result(X_train, X_test, y_train, log_reg)\n",
    "print(classification_report(y_test, log_reg_result))"
   ]
  },
  {
   "cell_type": "code",
   "execution_count": 14,
   "metadata": {},
   "outputs": [
    {
     "name": "stdout",
     "output_type": "stream",
     "text": [
      "              precision    recall  f1-score   support\n",
      "\n",
      "           0       0.97      0.58      0.73     32175\n",
      "           1       0.88      1.00      0.93     99393\n",
      "\n",
      "    accuracy                           0.89    131568\n",
      "   macro avg       0.93      0.79      0.83    131568\n",
      "weighted avg       0.90      0.89      0.88    131568\n",
      "\n"
     ]
    }
   ],
   "source": [
    "# Random Forest Classifier \n",
    "from sklearn.ensemble import RandomForestClassifier\n",
    "\n",
    "rfc = RandomForestClassifier(max_depth = 8)\n",
    "rfc_result = result(X_train, X_test, y_train, dtc)\n",
    "print(classification_report(y_test, rfc_result))\n",
    "\n",
    "# cross_val_score(dtc, X_train, y_train, cv=10)"
   ]
  },
  {
   "cell_type": "code",
   "execution_count": 13,
   "metadata": {},
   "outputs": [
    {
     "name": "stdout",
     "output_type": "stream",
     "text": [
      "              precision    recall  f1-score   support\n",
      "\n",
      "           0       0.88      0.84      0.86     32175\n",
      "           1       0.95      0.96      0.96     99393\n",
      "\n",
      "    accuracy                           0.93    131568\n",
      "   macro avg       0.92      0.90      0.91    131568\n",
      "weighted avg       0.93      0.93      0.93    131568\n",
      "\n"
     ]
    }
   ],
   "source": [
    "# XG Boost\n",
    "\n",
    "from xgboost import XGBClassifier\n",
    "xgb = XGBClassifier(n_estimators = 100, learning_rate = 1.0, max_depth = 1, objective=\"binary:logistic\").fit(X_train, y_train)\n",
    "xgb_result = result(X_train, X_test, y_train, xgb)\n",
    "print(classification_report(y_test, xgb_result))\n"
   ]
  },
  {
   "cell_type": "code",
   "execution_count": 15,
   "metadata": {},
   "outputs": [],
   "source": [
    "# After we have the result for the few models we're using, we can optimise the hyperparameters to help us find the best model\n",
    "# For example, we can use GridSearchCV to optimise the hyperparameters for Logistic Regression.\n",
    "# How do you find the parameters? Documentation\n",
    "\n",
    "from sklearn.model_selection import GridSearchCV\n",
    "\n",
    "param_grid = {\n",
    "    'penalty': ['l1', 'l2', 'elasticnet'],\n",
    "    'C': [0.001, 0.01, 0.1, 1, 10, 100, 1000],\n",
    "    'solver': ['newton-cg', 'lbfgs','liblinear', 'sag', 'saga'],\n",
    "    # removed max_iter values: 100, 1000, 2500, 5000\n",
    "    'max_iter': [10000, 25000, 50000, 100000]\n",
    "}\n",
    "\n",
    "log_reg_cv = GridSearchCV(log_reg, param_grid, cv=3)\n",
    "log_reg_cv.fit(X_train, y_train)\n",
    "print(log_reg_cv.best_params_)\n",
    "print(log_reg_cv.best_score_)\n",
    "\n",
    "# After that, save this into a model and run result() again\n",
    "log_reg_cv_result = result(X_train, X_test, y_train, log_reg_cv)\n",
    "print(classification_report(y_test, log_reg_cv_result))\n"
   ]
  },
  {
   "cell_type": "code",
   "execution_count": null,
   "metadata": {},
   "outputs": [],
   "source": [
    "param_grid = {\n",
    "    'n_estimators': [50, 100, 250, 500],\n",
    "    'criterion': [\"gini\", \"entropy\", \"log_loss\"],\n",
    "    'min_samples_split': [2, 5, 10, 15, 20, 25],\n",
    "    'max_features': [\"sqrt\", \"log2\", None],\n",
    "}\n",
    "\n",
    "rfc_cv = GridSearchCV(log_reg, param_grid, cv=3)\n",
    "rfc_cv.fit(X_train, y_train)\n",
    "print(rfc_cv.best_params_)\n",
    "print(rfc_cv.best_score_)\n",
    "\n",
    "rfc_cv_result = result(X_train, X_test, y_train, rfc_cv)\n",
    "print(classification_report(y_test, rfc_cv_result))"
   ]
  },
  {
   "cell_type": "code",
   "execution_count": null,
   "metadata": {},
   "outputs": [],
   "source": [
    "param_grid = {\n",
    "    'gamma': [0, 0.001, 0.01, 0.01, 1, 10, 100, 1000],\n",
    "    'eta': [0.001, 0.01, 0.1, 1, 10, 100, 1000],\n",
    "}\n",
    "\n",
    "xgboost_cv = GridSearchCV(xgb, param_grid)\n",
    "xgboost_cv.fit(X_train, y_train)\n",
    "print(xgboost_cv.best_params_)\n",
    "print(xgboost_cv.best_score_)\n",
    "\n",
    "xgboost_cv_result = result(X_train, X_test, y_train, xgboost_cv)\n",
    "print(classification_report(y_test, xgboost_cv_result))"
   ]
  },
  {
   "attachments": {},
   "cell_type": "markdown",
   "metadata": {},
   "source": [
    "After this, we use the ROC AUC score if there is an imbalance in dataset. We try not to use accuracy.\n",
    "\n",
    "There are also other scores like Precision and Recall, those are usable as well. \n",
    "\n",
    "However, let's look at the formulas for precision and recall:\n",
    "Precision = TP / (TP + FP)\n",
    "Recall = TP / (TP + FN)\n",
    "\n",
    "The cost of having a false positive is higher than a false negative as we can deny the loan to a person who is not a defaulter, but we cannot give a loan to a person who is a defaulter.\n",
    "\n",
    "Therefore we should seek to minimise FP > minimise FN, and therefore the higher the precision, the better."
   ]
  },
  {
   "cell_type": "code",
   "execution_count": 56,
   "metadata": {},
   "outputs": [
    {
     "data": {
      "text/plain": [
       "array([0.44639707, 0.67375172, 0.8161232 , ..., 0.73722534, 0.91296712,\n",
       "       0.47195948])"
      ]
     },
     "execution_count": 56,
     "metadata": {},
     "output_type": "execute_result"
    }
   ],
   "source": [
    "import matplotlib.pyplot as plt\n",
    "import numpy as np\n",
    "# Insert your model here\n",
    "#model = None"
   ]
  },
  {
   "cell_type": "code",
   "execution_count": 70,
   "metadata": {},
   "outputs": [
    {
     "data": {
      "image/png": "[encoded data removed]",
      "text/plain": [
       "<Figure size 640x480 with 1 Axes>"
      ]
     },
     "metadata": {},
     "output_type": "display_data"
    }
   ],
   "source": [
    "def graphing(X_test, model, name = 'model'):\n",
    "\n",
    "    y_pred = model.predict_proba(X_test)[:, 1]\n",
    "    thresholds = np.linspace(0,1,101)\n",
    "\n",
    "    scores = []\n",
    "\n",
    "    for t in thresholds:\n",
    "        actual_positive = (y_test == 1)\n",
    "        actual_negative = (y_test == 0)\n",
    "\n",
    "        pred_positive = (y_pred >= t)\n",
    "        pred_negative = (y_pred < t)\n",
    "\n",
    "        tp = (actual_positive & pred_positive).sum()\n",
    "        tn = (actual_negative & pred_negative).sum()\n",
    "        fp = (pred_positive & actual_negative).sum()\n",
    "        fn = (pred_negative & actual_positive).sum()\n",
    "\n",
    "        scores.append((t, tp, fp, fn, tn))\n",
    "    \n",
    "    columns = ['threshold', 'tp', 'fp', 'fn', 'tn']\n",
    "    scores_data = pd.DataFrame(scores, columns = columns)\n",
    "    scores_data['tpr'] = scores_data.tp / (scores_data.tp + scores_data.fn)\n",
    "    scores_data['fpr'] = scores_data.fp / (scores_data.fp + scores_data.tn)\n",
    "    \n",
    "    plt.plot(scores_data.fpr, scores_data.tpr, label='Model')\n",
    "    plt.title(\"ROC AUC curve of model \" + name)\n",
    "\n",
    "graphing(X_test, xgb)"
   ]
  },
  {
   "cell_type": "code",
   "execution_count": 59,
   "metadata": {},
   "outputs": [
    {
     "data": {
      "text/plain": [
       "<matplotlib.legend.Legend at 0x19639616d50>"
      ]
     },
     "execution_count": 59,
     "metadata": {},
     "output_type": "execute_result"
    },
    {
     "data": {
      "image/png": "[encoded data removed]",
      "text/plain": [
       "<Figure size 640x480 with 1 Axes>"
      ]
     },
     "metadata": {},
     "output_type": "display_data"
    }
   ],
   "source": [
    "# Make conclusions on the graph pls \n",
    "\n",
    "scores_data['precision'] = scores_data.tp / (scores_data.tp + scores_data.fp)\n",
    "scores_data['recall'] = scores_data.tp / (scores_data.tp + scores_data.fn)\n",
    "\n",
    "plt.plot(scores_data.threshold, scores_data.precision, label = 'precision')\n",
    "plt.plot(scores_data.threshold, scores_data.recall, label = 'recall')\n",
    "plt.legend()"
   ]
  },
  {
   "cell_type": "markdown",
   "metadata": {},
   "source": []
  }
 ],
 "metadata": {
  "kernelspec": {
   "display_name": "Python 3",
   "language": "python",
   "name": "python3"
  },
  "language_info": {
   "codemirror_mode": {
    "name": "ipython",
    "version": 3
   },
   "file_extension": ".py",
   "mimetype": "text/x-python",
   "name": "python",
   "nbconvert_exporter": "python",
   "pygments_lexer": "ipython3",
   "version": "3.11.1"
  },
  "orig_nbformat": 4,
  "vscode": {
   "interpreter": {
    "hash": "c261aea317cc0286b3b3261fbba9abdec21eaa57589985bb7a274bf54d6cc0a7"
   }
  }
 },
 "nbformat": 4,
 "nbformat_minor": 2
}
